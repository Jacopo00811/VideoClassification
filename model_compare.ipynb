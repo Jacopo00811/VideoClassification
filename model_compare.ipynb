{
 "cells": [
  {
   "cell_type": "markdown",
   "metadata": {},
   "source": [
    "# Load data"
   ]
  },
  {
   "cell_type": "code",
   "execution_count": 1,
   "metadata": {},
   "outputs": [
    {
     "name": "stdout",
     "output_type": "stream",
     "text": [
      "Running on: cuda\n"
     ]
    }
   ],
   "source": [
    "import torch\n",
    "from torch.utils.data import DataLoader\n",
    "from torchvision import transforms\n",
    "from datasets import FrameVideoDataset\n",
    "\n",
    "root_dir = r\"ufc10\"\n",
    "\n",
    "# Device configuration\n",
    "device = torch.device(\"cuda\" if torch.cuda.is_available() else \"cpu\")\n",
    "print(f'Running on: {device}')\n",
    "\n",
    "# Define transforms for different model types*\n",
    "transform_pretrained = transforms.Compose([\n",
    "    transforms.Resize((224, 224)),\n",
    "    transforms.ToTensor(),\n",
    "    transforms.Normalize(mean=[0.485, 0.456, 0.406], std=[0.229, 0.224, 0.225])\n",
    "])\n",
    "\n",
    "transform_3d = transforms.Compose([\n",
    "    transforms.Resize((64, 64)),\n",
    "    transforms.ToTensor(),\n",
    "    transforms.Normalize(mean=[0.485, 0.456, 0.406], std=[0.229, 0.224, 0.225])\n",
    "])\n",
    "\n",
    "# Create datasets and loaders for different model types\n",
    "test_dataset_pretrained = FrameVideoDataset(root_dir=root_dir, split='val', \n",
    "                                          transform=transform_pretrained, stack_frames=True)\n",
    "test_dataset_3d = FrameVideoDataset(root_dir=root_dir, split='val', \n",
    "                                   transform=transform_3d, stack_frames=True)\n",
    "\n",
    "test_loader_pretrained = DataLoader(test_dataset_pretrained, batch_size=8, shuffle=False)\n",
    "test_loader_3d = DataLoader(test_dataset_3d, batch_size=8, shuffle=False)"
   ]
  },
  {
   "cell_type": "markdown",
   "metadata": {},
   "source": [
    "# Load models"
   ]
  },
  {
   "cell_type": "code",
   "execution_count": 2,
   "metadata": {},
   "outputs": [
    {
     "name": "stderr",
     "output_type": "stream",
     "text": [
      "C:\\Users\\gtoft\\AppData\\Local\\Temp\\ipykernel_30400\\992528521.py:37: FutureWarning: You are using `torch.load` with `weights_only=False` (the current default value), which uses the default pickle module implicitly. It is possible to construct malicious pickle data which will execute arbitrary code during unpickling (See https://github.com/pytorch/pytorch/blob/main/SECURITY.md#untrusted-models for more details). In a future release, the default value for `weights_only` will be flipped to `True`. This limits the functions that could be executed during unpickling. Arbitrary objects will no longer be allowed to be loaded via this mode unless they are explicitly allowlisted by the user via `torch.serialization.add_safe_globals`. We recommend you start setting `weights_only=True` for any use case where you don't have full control of the loaded file. Please open an issue on GitHub for any issues related to this experimental feature.\n",
      "  checkpoint = torch.load(model_path)  # Load checkpoint\n"
     ]
    },
    {
     "name": "stdout",
     "output_type": "stream",
     "text": [
      "Aggregation loaded successfully.\n",
      "EarlyFusionModel loaded successfully.\n",
      "LateFusionAVGPool loaded successfully.\n",
      "LateFusionMLP loaded successfully.\n",
      "3DConv loaded successfully.\n"
     ]
    }
   ],
   "source": [
    "import os\n",
    "import torch\n",
    "from aggregation_model import Pretrained\n",
    "from early_fusion import EarlyFusionModel\n",
    "from late_fusion import LateFusion\n",
    "from model3d import TheConvolver3D\n",
    "\n",
    "# Directory containing the saved model files\n",
    "models_dir = r\"../saved_models/\"\n",
    "\n",
    "# Define the model paths\n",
    "model_paths = {\n",
    "    \"Aggregation\": os.path.join(models_dir, \"Pretrained_best.pth\"),\n",
    "    \"EarlyFusionModel\": os.path.join(models_dir, \"EarlyFusionModel_best.pth\"),\n",
    "    \"LateFusionAVGPool\": os.path.join(models_dir, \"LateFusionAVGPool_best.pth\"),\n",
    "    \"LateFusionMLP\": os.path.join(models_dir, \"LateFusionMLP_best.pth\"),\n",
    "    \"3DConv\": os.path.join(models_dir, \"TheConvolver3D_best.pth\")\n",
    "}\n",
    "\n",
    "hyperparameters = {\n",
    "    'num_classes': 10,\n",
    "}\n",
    "\n",
    "\n",
    "# Initialize the models\n",
    "models = {\n",
    "    \"Aggregation\": Pretrained( pretrained=False, freeze_backbone = False),\n",
    "    \"EarlyFusionModel\": EarlyFusionModel(hyperparameters=hyperparameters, load_pretrained=False, use_lstm=False),\n",
    "    \"LateFusionAVGPool\": LateFusion(hyperparameters=hyperparameters, load_pretrained=False, fusion_type='avg_pool'),\n",
    "    \"LateFusionMLP\": LateFusion(hyperparameters=hyperparameters, load_pretrained=False, fusion_type='mlp'),\n",
    "    \"3DConv\": TheConvolver3D()\n",
    "}\n",
    "\n",
    "for model_name, model in models.items():\n",
    "    model_path = model_paths[model_name]\n",
    "    if os.path.exists(model_path):\n",
    "        checkpoint = torch.load(model_path)  # Load checkpoint\n",
    "        model.load_state_dict(checkpoint[\"model_state_dict\"])  # Load model weights\n",
    "        model.eval()  # Set the model to evaluation mode\n",
    "        print(f\"{model_name} loaded successfully.\")\n",
    "    else:\n",
    "        print(f\"Model file for {model_name} not found at {model_path}.\")\n",
    "\n"
   ]
  },
  {
   "cell_type": "markdown",
   "metadata": {},
   "source": [
    "# Inference"
   ]
  },
  {
   "cell_type": "code",
   "execution_count": 3,
   "metadata": {},
   "outputs": [],
   "source": [
    "import torch\n",
    "import numpy as np\n",
    "from tqdm import tqdm\n",
    "from torch.utils.data import DataLoader\n",
    "from torchvision import transforms\n",
    "from datasets import FrameVideoDataset, FrameImageDataset"
   ]
  },
  {
   "cell_type": "code",
   "execution_count": 5,
   "metadata": {},
   "outputs": [
    {
     "name": "stdout",
     "output_type": "stream",
     "text": [
      "Running inference for model: Aggregation\n"
     ]
    },
    {
     "name": "stderr",
     "output_type": "stream",
     "text": [
      "Testing Aggregation: 100%|██████████| 15/15 [00:07<00:00,  2.02it/s]\n"
     ]
    },
    {
     "name": "stdout",
     "output_type": "stream",
     "text": [
      "Running inference for model: EarlyFusionModel\n"
     ]
    },
    {
     "name": "stderr",
     "output_type": "stream",
     "text": [
      "Testing EarlyFusionModel: 100%|██████████| 15/15 [00:08<00:00,  1.83it/s]\n"
     ]
    },
    {
     "name": "stdout",
     "output_type": "stream",
     "text": [
      "Running inference for model: LateFusionAVGPool\n"
     ]
    },
    {
     "name": "stderr",
     "output_type": "stream",
     "text": [
      "Testing LateFusionAVGPool: 100%|██████████| 15/15 [00:08<00:00,  1.74it/s]\n"
     ]
    },
    {
     "name": "stdout",
     "output_type": "stream",
     "text": [
      "Running inference for model: LateFusionMLP\n"
     ]
    },
    {
     "name": "stderr",
     "output_type": "stream",
     "text": [
      "Testing LateFusionMLP: 100%|██████████| 15/15 [00:09<00:00,  1.65it/s]\n"
     ]
    },
    {
     "name": "stdout",
     "output_type": "stream",
     "text": [
      "Running inference for model: 3DConv\n"
     ]
    },
    {
     "name": "stderr",
     "output_type": "stream",
     "text": [
      "Testing 3DConv: 100%|██████████| 15/15 [00:01<00:00, 12.34it/s]"
     ]
    },
    {
     "name": "stdout",
     "output_type": "stream",
     "text": [
      "\n",
      "Inference completed for all models.\n",
      "Number of test samples: 120\n",
      "Number of predictions for Aggregation: 120\n",
      "Number of predictions for EarlyFusionModel: 120\n",
      "Number of predictions for LateFusionAVGPool: 120\n",
      "Number of predictions for LateFusionMLP: 120\n",
      "Number of predictions for 3DConv: 120\n"
     ]
    },
    {
     "name": "stderr",
     "output_type": "stream",
     "text": [
      "\n"
     ]
    }
   ],
   "source": [
    "# Initialize results\n",
    "y_true = []\n",
    "predictions = {model_name: [] for model_name in models.keys()}\n",
    "\n",
    "# Run inference one model at a time\n",
    "for model_name, model in models.items():\n",
    "    print(f\"Running inference for model: {model_name}\")\n",
    "    \n",
    "    model.to(device)\n",
    "    model.eval()\n",
    "    \n",
    "    # Select appropriate loader based on model type\n",
    "    if model_name == \"3DConv\":\n",
    "        loader = test_loader_3d\n",
    "    else:\n",
    "        loader = test_loader_pretrained\n",
    "    \n",
    "    with torch.no_grad():\n",
    "        for batch_idx, (inputs, labels) in enumerate(tqdm(loader, desc=f\"Testing {model_name}\")):\n",
    "            inputs = inputs.to(device)\n",
    "            labels = labels.to(device)\n",
    "            \n",
    "            # Store true labels (only need to do this once per loader)\n",
    "            if len(y_true) < len(test_dataset_3d):  # Only store if not already stored\n",
    "                y_true.extend(labels.cpu().numpy())\n",
    "            \n",
    "            try:\n",
    "                # Handle different input requirements for different models\n",
    "                if model_name == \"Aggregation\":\n",
    "                    # Reshape input for Pretrained model\n",
    "                    batch_size, channels, frames, height, width = inputs.shape\n",
    "                    inputs = inputs.view(-1, channels, height, width)\n",
    "                    outputs = model(inputs)\n",
    "                    outputs = outputs.view(batch_size, frames, -1).mean(dim=1)\n",
    "                else:\n",
    "                    outputs = model(inputs)\n",
    "                \n",
    "                # Get predictions\n",
    "                _, predicted = torch.max(outputs.data, 1)\n",
    "                predictions[model_name].extend(predicted.cpu().numpy())\n",
    "                \n",
    "            except Exception as e:\n",
    "                print(f\"Error processing batch for {model_name}: {str(e)}\")\n",
    "                continue\n",
    "    \n",
    "    # Move model back to CPU and clear cache\n",
    "    model = model.cpu()\n",
    "    torch.cuda.empty_cache()\n",
    "\n",
    "# Convert to numpy arrays\n",
    "y_true = np.array(y_true)\n",
    "for model_name in predictions.keys():\n",
    "    predictions[model_name] = np.array(predictions[model_name])\n",
    "\n",
    "print(\"\\nInference completed for all models.\")\n",
    "print(f\"Number of test samples: {len(y_true)}\")\n",
    "for model_name in predictions.keys():\n",
    "    print(f\"Number of predictions for {model_name}: {len(predictions[model_name])}\")"
   ]
  },
  {
   "cell_type": "markdown",
   "metadata": {},
   "source": [
    "# Friedman Test: Non-parametric alternative to ANOVA"
   ]
  },
  {
   "cell_type": "code",
   "execution_count": 10,
   "metadata": {},
   "outputs": [
    {
     "name": "stdout",
     "output_type": "stream",
     "text": [
      "                   Accuracy  Macro F1  Weighted F1\n",
      "Aggregation        0.791667  0.785833     0.785833\n",
      "EarlyFusionModel   0.108333  0.062847     0.062847\n",
      "LateFusionAVGPool  0.141667  0.085584     0.085584\n",
      "LateFusionMLP      0.050000  0.034878     0.034878\n",
      "3DConv             0.766667  0.766504     0.766504\n"
     ]
    }
   ],
   "source": [
    "from sklearn.metrics import classification_report, accuracy_score\n",
    "\n",
    "# Calculate metrics for each model\n",
    "results = {}\n",
    "for model_name, preds in predictions.items():\n",
    "    # Generate a classification report\n",
    "    report = classification_report(y_true, preds, output_dict=True, zero_division=0)\n",
    "    \n",
    "    # Extract key metrics\n",
    "    results[model_name] = {\n",
    "        \"Accuracy\": accuracy_score(y_true, preds),\n",
    "        \"Macro F1\": report[\"macro avg\"][\"f1-score\"],\n",
    "        \"Weighted F1\": report[\"weighted avg\"][\"f1-score\"]\n",
    "    }\n",
    "\n",
    "# Display results\n",
    "import pandas as pd\n",
    "df_results = pd.DataFrame(results).T\n",
    "print(df_results)\n"
   ]
  },
  {
   "cell_type": "code",
   "execution_count": 11,
   "metadata": {},
   "outputs": [
    {
     "name": "stdout",
     "output_type": "stream",
     "text": [
      "Aggregation: 95% CI for Macro F1: 0.6995 - 0.8501\n",
      "EarlyFusionModel: 95% CI for Macro F1: 0.0244 - 0.1015\n",
      "LateFusionAVGPool: 95% CI for Macro F1: 0.0359 - 0.1290\n",
      "LateFusionMLP: 95% CI for Macro F1: 0.0106 - 0.0593\n",
      "3DConv: 95% CI for Macro F1: 0.6817 - 0.8319\n"
     ]
    }
   ],
   "source": [
    "import numpy as np\n",
    "\n",
    "# Bootstrap sampling to generate metric distributions\n",
    "n_iterations = 1000\n",
    "bootstrap_metrics = {model_name: [] for model_name in models.keys()}\n",
    "\n",
    "for i in range(n_iterations):\n",
    "    indices = np.random.choice(len(y_true), len(y_true), replace=True)\n",
    "    for model_name, preds in predictions.items():\n",
    "        # Get bootstrap samples\n",
    "        bootstrap_y_true = [y_true[idx] for idx in indices]\n",
    "        bootstrap_preds = [preds[idx] for idx in indices]\n",
    "        \n",
    "        # Calculate macro F1-score with zero_division=0\n",
    "        f1 = classification_report(bootstrap_y_true, \n",
    "                                 bootstrap_preds, \n",
    "                                 output_dict=True,\n",
    "                                 zero_division=0)[\"macro avg\"][\"f1-score\"]\n",
    "        bootstrap_metrics[model_name].append(f1)\n",
    "\n",
    "# Compute confidence intervals for each model\n",
    "for model_name, f1_scores in bootstrap_metrics.items():\n",
    "    lower = np.percentile(f1_scores, 2.5)\n",
    "    upper = np.percentile(f1_scores, 97.5)\n",
    "    print(f\"{model_name}: 95% CI for Macro F1: {lower:.4f} - {upper:.4f}\")\n"
   ]
  },
  {
   "cell_type": "code",
   "execution_count": 7,
   "metadata": {},
   "outputs": [
    {
     "name": "stdout",
     "output_type": "stream",
     "text": [
      "Friedman Test: p = 0.0000\n",
      "Post-hoc Test Results (Nemenyi):\n",
      "              0             1             2             3             4\n",
      "0  1.000000e+00  1.110223e-16  1.110223e-16  1.110223e-16  1.305821e-05\n",
      "1  1.110223e-16  1.000000e+00  3.330669e-16  1.110223e-16  1.110223e-16\n",
      "2  1.110223e-16  3.330669e-16  1.000000e+00  1.110223e-16  1.110223e-16\n",
      "3  1.110223e-16  1.110223e-16  1.110223e-16  1.000000e+00  1.110223e-16\n",
      "4  1.305821e-05  1.110223e-16  1.110223e-16  1.110223e-16  1.000000e+00\n"
     ]
    }
   ],
   "source": [
    "from scipy.stats import friedmanchisquare\n",
    "from scikit_posthocs import posthoc_nemenyi_friedman\n",
    "\n",
    "# Prepare metric matrix\n",
    "metric_matrix = np.array([bootstrap_metrics[model_name] for model_name in models.keys()])\n",
    "\n",
    "# Perform Friedman Test\n",
    "stat, p_value = friedmanchisquare(*metric_matrix)\n",
    "print(f\"Friedman Test: p = {p_value:.4f}\")\n",
    "\n",
    "# Post-hoc Nemenyi Test if p < 0.05\n",
    "if p_value < 0.05:\n",
    "    nemenyi_results = posthoc_nemenyi_friedman(metric_matrix.T)\n",
    "    print(\"Post-hoc Test Results (Nemenyi):\")\n",
    "    print(nemenyi_results)\n"
   ]
  },
  {
   "cell_type": "code",
   "execution_count": 15,
   "metadata": {},
   "outputs": [
    {
     "data": {
      "image/png": "[encoded data removed]",
      "text/plain": [
       "<Figure size 1200x600 with 1 Axes>"
      ]
     },
     "metadata": {},
     "output_type": "display_data"
    }
   ],
   "source": [
    "import seaborn as sns\n",
    "import matplotlib.pyplot as plt\n",
    "import numpy as np\n",
    "\n",
    "# Set style and figure size\n",
    "plt.figure(figsize=(12, 6))\n",
    "sns.set_style(\"whitegrid\")\n",
    "\n",
    "# Create boxplot\n",
    "sns.boxplot(data=[bootstrap_metrics[model_name] for model_name in models.keys()], \n",
    "            width=0.6)\n",
    "\n",
    "# Customize the plot\n",
    "plt.xticks(range(len(models)), models.keys())\n",
    "plt.ylabel(\"Macro F1 Score\")\n",
    "plt.title(\"Model Performance Comparison\\nAll models significantly different (p < 0.05)\")\n",
    "\n",
    "# Add text annotation explaining the results\n",
    "plt.text(0.02, -0.15, \"Results: All models show statistically significant differences in performance\\n\" + \n",
    "         \"Top performers: (1) Aggregation (2) 3DConv, with Aggregation significantly better\",\n",
    "         transform=plt.gca().transAxes, fontsize=8, va='top')\n",
    "\n",
    "plt.tight_layout()\n",
    "plt.show()"
   ]
  },
  {
   "cell_type": "markdown",
   "metadata": {},
   "source": [
    "# No leaks comparison"
   ]
  },
  {
   "cell_type": "code",
   "execution_count": null,
   "metadata": {},
   "outputs": [],
   "source": [
    "import torch\n",
    "from torch.utils.data import DataLoader\n",
    "from torchvision import transforms\n",
    "from datasets_new import FrameVideoDataset\n",
    "\n",
    "root_dir = r\"ufc10\"\n",
    "\n",
    "# Device configuration\n",
    "device = torch.device(\"cuda\" if torch.cuda.is_available() else \"cpu\")\n",
    "print(f'Running on: {device}')\n",
    "\n",
    "# Define transforms for different model types*\n",
    "transform_pretrained = transforms.Compose([\n",
    "    transforms.Resize((224, 224)),\n",
    "    transforms.ToTensor(),\n",
    "    transforms.Normalize(mean=[0.485, 0.456, 0.406], std=[0.229, 0.224, 0.225])\n",
    "])\n",
    "\n",
    "transform_3d = transforms.Compose([\n",
    "    transforms.Resize((64, 64)),\n",
    "    transforms.ToTensor(),\n",
    "    transforms.Normalize(mean=[0.485, 0.456, 0.406], std=[0.229, 0.224, 0.225])\n",
    "])\n",
    "\n",
    "# Create datasets and loaders for different model types\n",
    "test_dataset_pretrained = FrameVideoDataset(root_dir=root_dir, split='val', \n",
    "                                          transform=transform_pretrained, stack_frames=True)\n",
    "test_dataset_3d = FrameVideoDataset(root_dir=root_dir, split='val', \n",
    "                                   transform=transform_3d, stack_frames=True)\n",
    "\n",
    "test_loader_pretrained = DataLoader(test_dataset_pretrained, batch_size=8, shuffle=False)\n",
    "test_loader_3d = DataLoader(test_dataset_3d, batch_size=8, shuffle=False)"
   ]
  }
 ],
 "metadata": {
  "kernelspec": {
   "display_name": "dlcv",
   "language": "python",
   "name": "python3"
  },
  "language_info": {
   "codemirror_mode": {
    "name": "ipython",
    "version": 3
   },
   "file_extension": ".py",
   "mimetype": "text/x-python",
   "name": "python",
   "nbconvert_exporter": "python",
   "pygments_lexer": "ipython3",
   "version": "3.10.14"
  }
 },
 "nbformat": 4,
 "nbformat_minor": 2
}
